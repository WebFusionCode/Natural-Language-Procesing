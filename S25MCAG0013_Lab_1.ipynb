{
  "cells": [
    {
      "cell_type": "code",
      "execution_count": null,
      "metadata": {
        "colab": {
          "base_uri": "https://localhost:8080/"
        },
        "id": "xgp1qLIoQ6tM",
        "outputId": "869837e1-2fa7-476e-8031-cecc22d194ca"
      },
      "outputs": [
        {
          "name": "stdout",
          "output_type": "stream",
          "text": [
            "['iitbhu.ac.in']\n"
          ]
        }
      ],
      "source": [
        "import re\n",
        "def find_domain():\n",
        "    sentence = \"Visit our portal at https://www.iitbhu.ac.in for details.\"\n",
        "    result = re.findall(r'https?://(?:www\\.)?([a-zA-Z0-9.-]+\\.[a-zA-Z]{2,})', sentence)\n",
        "    print(result)\n",
        "\n",
        "\n",
        "find_domain()"
      ]
    },
    {
      "cell_type": "code",
      "execution_count": 2,
      "metadata": {
        "colab": {
          "base_uri": "https://localhost:8080/"
        },
        "id": "26OXHQyJajIv",
        "outputId": "91290c9d-28ed-4fe0-988f-ee755ee65bfd"
      },
      "outputs": [
        {
          "name": "stdout",
          "output_type": "stream",
          "text": [
            "['abc123@yahoo.com', 'x.y.z@gmail.com']\n"
          ]
        }
      ],
      "source": [
        "import re\n",
        "def extract_gmail_yahoo(text):\n",
        "    pattern = r'[a-zA-Z0-9._%+-]+@(?:gmail|yahoo)\\.com'\n",
        "    return re.findall(pattern, text)\n",
        "\n",
        "text = \"Send updates to abc123@yahoo.com and x.y.z@gmail.com\"\n",
        "emails = extract_gmail_yahoo(text)\n",
        "print(emails)"
      ]
    },
    {
      "cell_type": "code",
      "execution_count": 3,
      "metadata": {
        "colab": {
          "base_uri": "https://localhost:8080/"
        },
        "id": "zMWMm7Uxa-OD",
        "outputId": "a0313219-4470-4a9c-9f69-00b87cf53eb2"
      },
      "outputs": [
        {
          "name": "stdout",
          "output_type": "stream",
          "text": [
            "['#IndvsPak_2025', '#Go_India', '#Cricket123']\n"
          ]
        }
      ],
      "source": [
        "import re\n",
        "def find_special_hashtags(text):\n",
        "    pattern = r'#\\w*(?:\\d|_)\\w*'\n",
        "    return re.findall(pattern, text)\n",
        "\n",
        "text = \"Today's highlights: #IndvsPak_2025 #Go_India #Cricket123 #Cricket\"\n",
        "hashtags = find_special_hashtags(text)\n",
        "print(hashtags)"
      ]
    },
    {
      "cell_type": "code",
      "execution_count": 4,
      "metadata": {
        "colab": {
          "base_uri": "https://localhost:8080/"
        },
        "id": "uR1J6eCibMHE",
        "outputId": "0dac8699-6951-4350-9a6d-b5e8888977e4"
      },
      "outputs": [
        {
          "name": "stdout",
          "output_type": "stream",
          "text": [
            "['@dr_singh', '@Minister', '@India']\n"
          ]
        }
      ],
      "source": [
        "import re\n",
        "def extract_mentions(text):\n",
        "    pattern = r'@[A-Za-z0-9_]+'\n",
        "    return re.findall(pattern, text)\n",
        "\n",
        "text = \"@dr_singh! you were amazing @Minister@India\"\n",
        "mentions = extract_mentions(text)\n",
        "print(mentions)"
      ]
    },
    {
      "cell_type": "code",
      "execution_count": 5,
      "metadata": {
        "colab": {
          "base_uri": "https://localhost:8080/"
        },
        "id": "7RvWWISdbS7A",
        "outputId": "9419ecd0-e052-4f72-88e4-ced0d74630e6"
      },
      "outputs": [
        {
          "name": "stdout",
          "output_type": "stream",
          "text": [
            "['45.60', '99.99', '3']\n"
          ]
        }
      ],
      "source": [
        "import re\n",
        "def extract_numbers(text):\n",
        "    pattern = r'\\d+(?:\\.\\d+)?'\n",
        "    return re.findall(pattern, text)\n",
        "\n",
        "text = \"The price increased from 45.60 to 99.99 in 3 days\"\n",
        "numbers = extract_numbers(text)\n",
        "print(numbers)"
      ]
    },
    {
      "cell_type": "code",
      "execution_count": 6,
      "metadata": {
        "colab": {
          "base_uri": "https://localhost:8080/"
        },
        "id": "AMJ-XYiYbdx2",
        "outputId": "f2a6deb7-185d-4f5b-fedd-8070dba0ac05"
      },
      "outputs": [
        {
          "name": "stdout",
          "output_type": "stream",
          "text": [
            "['45.60', '99.99', '3']\n"
          ]
        }
      ],
      "source": [
        "import re\n",
        "def extract_numbers(text):\n",
        "    pattern = r'\\d+(?:\\.\\d+)?'\n",
        "    return re.findall(pattern, text)\n",
        "\n",
        "text = \"The price increased from 45.60 to 99.99 in 3 days\"\n",
        "numbers = extract_numbers(text)\n",
        "print(numbers)"
      ]
    },
    {
      "cell_type": "code",
      "execution_count": 8,
      "metadata": {
        "colab": {
          "base_uri": "https://localhost:8080/"
        },
        "id": "2CN91dAcbhwf",
        "outputId": "1b7a1887-a3e6-4b2f-fa5f-fb622721a4d8"
      },
      "outputs": [
        {
          "name": "stdout",
          "output_type": "stream",
          "text": [
            "True\n",
            "False\n"
          ]
        }
      ],
      "source": [
        "import re\n",
        "def validate_vehicle_number(number):\n",
        "    pattern = r'^[A-Z]{2}\\d{2}[A-Z]{2}\\d{4}$'\n",
        "    return bool(re.match(pattern, number))\n",
        "\n",
        "print(validate_vehicle_number(\"UP32GH1234\"))\n",
        "print(validate_vehicle_number(\"up32gh1234\"))"
      ]
    },
    {
      "cell_type": "code",
      "execution_count": 9,
      "metadata": {
        "colab": {
          "base_uri": "https://localhost:8080/"
        },
        "id": "i04RKWiIb0QD",
        "outputId": "99e06fb1-f47b-4c54-f795-f4cbf30ae1e5"
      },
      "outputs": [
        {
          "name": "stdout",
          "output_type": "stream",
          "text": [
            "Amazing work!\n"
          ]
        }
      ],
      "source": [
        "import re\n",
        "def normalize_text(text):\n",
        "    return re.sub(r'(.)\\1+', r'\\1', text)\n",
        "\n",
        "text = \"Ammmaaazing wooorrrkkk!!!\"\n",
        "print(normalize_text(text))"
      ]
    },
    {
      "cell_type": "code",
      "execution_count": 10,
      "metadata": {
        "colab": {
          "base_uri": "https://localhost:8080/"
        },
        "id": "N8duTOqMb3Cr",
        "outputId": "c6b24c79-72c2-409e-ab93-3d6118d300d7"
      },
      "outputs": [
        {
          "name": "stdout",
          "output_type": "stream",
          "text": [
            "['+919990001234', '09990004567']\n"
          ]
        }
      ],
      "source": [
        "import re\n",
        "def find_mobile_numbers(text):\n",
        "    pattern = r'(?:\\+91|0)[6-9]\\d{9}'\n",
        "    return re.findall(pattern, text)\n",
        "\n",
        "text = \"Call me at +919990001234 or 09990004567\"\n",
        "print(find_mobile_numbers(text))"
      ]
    },
    {
      "cell_type": "code",
      "execution_count": 11,
      "metadata": {
        "colab": {
          "base_uri": "https://localhost:8080/"
        },
        "id": "_k8X7u6-b-Zh",
        "outputId": "5f363656-ee54-456f-aa6b-a7a598ffa423"
      },
      "outputs": [
        {
          "name": "stdout",
          "output_type": "stream",
          "text": [
            "['Delhi', 'India', 'Modi', 'Prime', 'Minister']\n"
          ]
        }
      ],
      "source": [
        "import re\n",
        "def extract_proper_nouns(text):\n",
        "    pattern = r'(?<!\\. )\\b[A-Z][a-z]+\\b'\n",
        "    return re.findall(pattern, text)\n",
        "\n",
        "text = \"Delhi is the capital of India. Narendra Modi is the Prime Minister.\"\n",
        "print(extract_proper_nouns(text))"
      ]
    }
  ],
  "metadata": {
    "colab": {
      "provenance": []
    },
    "kernelspec": {
      "display_name": "Python 3",
      "name": "python3"
    },
    "language_info": {
      "name": "python"
    }
  },
  "nbformat": 4,
  "nbformat_minor": 0
}
