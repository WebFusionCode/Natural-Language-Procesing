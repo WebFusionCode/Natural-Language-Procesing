{
  "nbformat": 4,
  "nbformat_minor": 0,
  "metadata": {
    "colab": {
      "provenance": []
    },
    "kernelspec": {
      "name": "python3",
      "display_name": "Python 3"
    },
    "language_info": {
      "name": "python"
    }
  },
  "cells": [
    {
      "cell_type": "code",
      "execution_count": 6,
      "metadata": {
        "id": "Xfk1s4Qk4It3",
        "colab": {
          "base_uri": "https://localhost:8080/"
        },
        "outputId": "32086b1a-6e43-4ba8-bd23-5167bfb4270c"
      },
      "outputs": [
        {
          "output_type": "stream",
          "name": "stdout",
          "text": [
            "0.5\n",
            "0.5\n",
            "Spam -- test_email = 0.0002014031083213051\n",
            "Ham  -- test_email = 8.429002511842747e-06\n",
            "Classified as SPAM\n"
          ]
        }
      ],
      "source": [
        "mail = [\n",
        "    (\"Win money now\", \"spam\"),\n",
        "    (\"Lowest price guaranteed\", \"spam\"),\n",
        "    (\"Cheap meds available\", \"spam\"),\n",
        "    (\"Hello friend how are you\", \"ham\"),\n",
        "    (\"Let’s have lunch tomorrow\", \"ham\"),\n",
        "    (\"Meeting schedule attached\", \"ham\"),\n",
        "    (\"Win a free lottery ticket\", \"spam\"),\n",
        "    (\"See you at the conference\", \"ham\"),\n",
        "    (\"Project deadline reminder\", \"ham\"),\n",
        "    (\"Cheap loans available\", \"spam\"),\n",
        "]\n",
        "\n",
        "spams = [text for text, label in mail if label == \"spam\"]\n",
        "hams = [text for text, label in mail if label == \"ham\"]\n",
        "\n",
        "s_check = len(spams) / len(mail)\n",
        "h_check = len(hams) / len(mail)\n",
        "\n",
        "print(s_check)\n",
        "print(h_check)\n",
        "\n",
        "def l_words(word, c_mail):\n",
        "    words = \" \".join(c_mail).lower().split()\n",
        "    return (words.count(word) + 1) / (len(words) + len(set(words)))\n",
        "\n",
        "t_email = [\"cheap\", \"price\", \"now\"]\n",
        "\n",
        "spam_p = s_check\n",
        "ham_p = h_check\n",
        "\n",
        "for w in t_email:\n",
        "    spam_p *= l_words(w, spams)\n",
        "    ham_p *= l_words(w, hams)\n",
        "\n",
        "print(\"Spam -- test_email =\", spam_p)\n",
        "print(\"Ham  -- test_email =\", ham_p)\n",
        "\n",
        "if spam_p > ham_p:\n",
        "    print(\"Classified as SPAM\")\n",
        "else:\n",
        "    print(\"Classified as HAM\")\n"
      ]
    },
    {
      "cell_type": "code",
      "source": [
        "import re\n",
        "from collections import defaultdict\n",
        "\n",
        "def tokenize(text):\n",
        "    return re.findall(r'\\b\\w+\\b', text.lower())\n",
        "\n",
        "all_words = set()\n",
        "for text, label in mail:\n",
        "    all_words.update(tokenize(text))\n",
        "all_words = list(all_words)\n",
        "\n",
        "word_counts = {\n",
        "    \"spam\": defaultdict(int),\n",
        "    \"ham\": defaultdict(int)\n",
        "}\n",
        "spam_total = ham_total = 0\n",
        "\n",
        "for text, label in mail:\n",
        "    for word in tokenize(text):\n",
        "        word_counts[label][word] += 1\n",
        "        if label == \"spam\":\n",
        "            spam_total += 1\n",
        "        else:\n",
        "            ham_total += 1\n",
        "\n",
        "spam_p = len(spams) / len(mail)\n",
        "ham_p= len(hams) / len(mail)\n",
        "\n",
        "\n",
        "def classify(text):\n",
        "    words = tokenize(text)\n",
        "    spam_score = spam_p\n",
        "    ham_score = ham_p\n",
        "    vocab_size = len(all_words)\n",
        "\n",
        "    for w in words:\n",
        "        spam_score *= (word_counts[\"spam\"][w] + 1) / (spam_total + vocab_size)\n",
        "        ham_score *= (word_counts[\"ham\"][w] + 1) / (ham_total + vocab_size)\n",
        "\n",
        "    return \"spam\" if spam_score > ham_score else \"ham\"\n",
        "\n",
        "correct = 0\n",
        "for text, label in mail:\n",
        "    if classify(text) == label:\n",
        "        correct += 1\n",
        "\n",
        "print(\"Accuracy Naive Bayes:\", correct / len(mail))"
      ],
      "metadata": {
        "colab": {
          "base_uri": "https://localhost:8080/"
        },
        "id": "qpLzQgw9fr_U",
        "outputId": "42b6ef28-e90b-483c-eb62-42a4954629b2"
      },
      "execution_count": 10,
      "outputs": [
        {
          "output_type": "stream",
          "name": "stdout",
          "text": [
            "Accuracy Naive Bayes: 1.0\n"
          ]
        }
      ]
    },
    {
      "cell_type": "code",
      "source": [
        "from sklearn.feature_extraction.text import CountVectorizer\n",
        "from sklearn.naive_bayes import MultinomialNB\n",
        "from sklearn.metrics import accuracy_score\n",
        "\n",
        "texts = [text for text, label in mail]\n",
        "labels = [label for text, label in mail]\n",
        "\n",
        "vectorizer = CountVectorizer()\n",
        "X = vectorizer.fit_transform(texts)\n",
        "\n",
        "model = MultinomialNB()\n",
        "model.fit(X, labels)\n",
        "\n",
        "y_pred = model.predict(X)\n",
        "\n",
        "print(\"Accuracy (Sklearn NB):\", accuracy_score(labels, y_pred))\n",
        "\n",
        "test = [\"cheap price now\"]\n",
        "test_vec = vectorizer.transform(test)\n",
        "print(\"Prediction for 'cheap price now':\", model.predict(test_vec)[0])\n"
      ],
      "metadata": {
        "colab": {
          "base_uri": "https://localhost:8080/"
        },
        "id": "BoJ1W09mhI7Y",
        "outputId": "b7f75fd2-1474-4c5a-ccb0-2d66d06d40cb"
      },
      "execution_count": 9,
      "outputs": [
        {
          "output_type": "stream",
          "name": "stdout",
          "text": [
            "Accuracy (Sklearn NB): 1.0\n",
            "Prediction for 'cheap price now': spam\n"
          ]
        }
      ]
    }
  ]
}